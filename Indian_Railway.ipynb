{
 "cells": [
  {
   "cell_type": "code",
   "execution_count": null,
   "metadata": {},
   "outputs": [],
   "source": [
    "import requests\n",
    "\n",
    "def user_menu():\n",
    "    user_input = input(\"\"\"Hi how would you like to process. Press\n",
    "    1. To check your PNR status\n",
    "    2. To check train route\n",
    "    3. To check seat availability\n",
    "    4. To find train between stations\n",
    "    5. To exit\"\"\")\n",
    "    \n",
    "\n",
    "    if user_input==\"1\":\n",
    "        train_route()\n",
    "    else:\n",
    "        print(\"Bye\")\n",
    "\n",
    "        \n",
    "def train_route():\n",
    "    train_no = input(\"Enter the train number\")\n",
    "    url = \"https://api.railwayapi.com/v2/route/train/{}/apikey/4gnduhkgya/\".format(train_no)\n",
    "    res=requests.get(url)\n",
    "    res=res.json()\n",
    "    #print(response)\n",
    "    \n",
    "    for i in res['route']:\n",
    "        print(i['station']['name'],\"|\",i['scharr'],\"|\",i['schdep'])\n",
    "        print(\"---------------------------------------------------\")\n",
    "        \n",
    "user_menu()"
   ]
  }
 ],
 "metadata": {
  "kernelspec": {
   "display_name": "Python 3",
   "language": "python",
   "name": "python3"
  },
  "language_info": {
   "codemirror_mode": {
    "name": "ipython",
    "version": 3
   },
   "file_extension": ".py",
   "mimetype": "text/x-python",
   "name": "python",
   "nbconvert_exporter": "python",
   "pygments_lexer": "ipython3",
   "version": "3.6.5"
  }
 },
 "nbformat": 4,
 "nbformat_minor": 2
}
